{
 "cells": [
  {
   "cell_type": "code",
   "execution_count": 8,
   "metadata": {
    "collapsed": true
   },
   "outputs": [],
   "source": [
    "import yfinance as yf\n",
    "import pandas as pd\n",
    "from joblib import Parallel, delayed"
   ]
  },
  {
   "cell_type": "markdown",
   "source": [
    "# Data Example #"
   ],
   "metadata": {
    "collapsed": false
   }
  },
  {
   "cell_type": "code",
   "execution_count": 2,
   "outputs": [],
   "source": [
    "msft = yf.Ticker(\"msft\")"
   ],
   "metadata": {
    "collapsed": false
   }
  },
  {
   "cell_type": "markdown",
   "source": [
    "### History data ###"
   ],
   "metadata": {
    "collapsed": false
   }
  },
  {
   "cell_type": "code",
   "execution_count": 3,
   "outputs": [
    {
     "data": {
      "text/plain": "                                 Open        High         Low       Close  \\\nDate                                                                        \n2022-02-10 00:00:00-05:00  301.217530  306.250358  297.908540  299.572937   \n2022-02-11 00:00:00-05:00  300.375422  301.465217  291.488691  292.301086   \n2022-02-14 00:00:00-05:00  291.042882  294.005146  288.645364  292.261475   \n2022-02-15 00:00:00-05:00  297.225004  298.007648  294.262740  297.680725   \n2022-02-16 00:00:00-05:00  296.211422  298.693336  291.555350  297.333252   \n...                               ...         ...         ...         ...   \n2023-02-03 00:00:00-05:00  259.540009  264.200012  257.100006  258.350006   \n2023-02-06 00:00:00-05:00  257.440002  258.299988  254.779999  256.769989   \n2023-02-07 00:00:00-05:00  260.529999  268.769989  260.079987  267.559998   \n2023-02-08 00:00:00-05:00  273.200012  276.760010  266.209991  266.730011   \n2023-02-09 00:00:00-05:00  273.799988  273.980011  262.799988  263.619995   \n\n                             Volume  Dividends  Stock Splits  \nDate                                                          \n2022-02-10 00:00:00-05:00  45386200       0.00           0.0  \n2022-02-11 00:00:00-05:00  39175600       0.00           0.0  \n2022-02-14 00:00:00-05:00  36359500       0.00           0.0  \n2022-02-15 00:00:00-05:00  27058300       0.00           0.0  \n2022-02-16 00:00:00-05:00  29982100       0.62           0.0  \n...                             ...        ...           ...  \n2023-02-03 00:00:00-05:00  29062300       0.00           0.0  \n2023-02-06 00:00:00-05:00  22518000       0.00           0.0  \n2023-02-07 00:00:00-05:00  50841400       0.00           0.0  \n2023-02-08 00:00:00-05:00  54686000       0.00           0.0  \n2023-02-09 00:00:00-05:00  42292100       0.00           0.0  \n\n[251 rows x 7 columns]",
      "text/html": "<div>\n<style scoped>\n    .dataframe tbody tr th:only-of-type {\n        vertical-align: middle;\n    }\n\n    .dataframe tbody tr th {\n        vertical-align: top;\n    }\n\n    .dataframe thead th {\n        text-align: right;\n    }\n</style>\n<table border=\"1\" class=\"dataframe\">\n  <thead>\n    <tr style=\"text-align: right;\">\n      <th></th>\n      <th>Open</th>\n      <th>High</th>\n      <th>Low</th>\n      <th>Close</th>\n      <th>Volume</th>\n      <th>Dividends</th>\n      <th>Stock Splits</th>\n    </tr>\n    <tr>\n      <th>Date</th>\n      <th></th>\n      <th></th>\n      <th></th>\n      <th></th>\n      <th></th>\n      <th></th>\n      <th></th>\n    </tr>\n  </thead>\n  <tbody>\n    <tr>\n      <th>2022-02-10 00:00:00-05:00</th>\n      <td>301.217530</td>\n      <td>306.250358</td>\n      <td>297.908540</td>\n      <td>299.572937</td>\n      <td>45386200</td>\n      <td>0.00</td>\n      <td>0.0</td>\n    </tr>\n    <tr>\n      <th>2022-02-11 00:00:00-05:00</th>\n      <td>300.375422</td>\n      <td>301.465217</td>\n      <td>291.488691</td>\n      <td>292.301086</td>\n      <td>39175600</td>\n      <td>0.00</td>\n      <td>0.0</td>\n    </tr>\n    <tr>\n      <th>2022-02-14 00:00:00-05:00</th>\n      <td>291.042882</td>\n      <td>294.005146</td>\n      <td>288.645364</td>\n      <td>292.261475</td>\n      <td>36359500</td>\n      <td>0.00</td>\n      <td>0.0</td>\n    </tr>\n    <tr>\n      <th>2022-02-15 00:00:00-05:00</th>\n      <td>297.225004</td>\n      <td>298.007648</td>\n      <td>294.262740</td>\n      <td>297.680725</td>\n      <td>27058300</td>\n      <td>0.00</td>\n      <td>0.0</td>\n    </tr>\n    <tr>\n      <th>2022-02-16 00:00:00-05:00</th>\n      <td>296.211422</td>\n      <td>298.693336</td>\n      <td>291.555350</td>\n      <td>297.333252</td>\n      <td>29982100</td>\n      <td>0.62</td>\n      <td>0.0</td>\n    </tr>\n    <tr>\n      <th>...</th>\n      <td>...</td>\n      <td>...</td>\n      <td>...</td>\n      <td>...</td>\n      <td>...</td>\n      <td>...</td>\n      <td>...</td>\n    </tr>\n    <tr>\n      <th>2023-02-03 00:00:00-05:00</th>\n      <td>259.540009</td>\n      <td>264.200012</td>\n      <td>257.100006</td>\n      <td>258.350006</td>\n      <td>29062300</td>\n      <td>0.00</td>\n      <td>0.0</td>\n    </tr>\n    <tr>\n      <th>2023-02-06 00:00:00-05:00</th>\n      <td>257.440002</td>\n      <td>258.299988</td>\n      <td>254.779999</td>\n      <td>256.769989</td>\n      <td>22518000</td>\n      <td>0.00</td>\n      <td>0.0</td>\n    </tr>\n    <tr>\n      <th>2023-02-07 00:00:00-05:00</th>\n      <td>260.529999</td>\n      <td>268.769989</td>\n      <td>260.079987</td>\n      <td>267.559998</td>\n      <td>50841400</td>\n      <td>0.00</td>\n      <td>0.0</td>\n    </tr>\n    <tr>\n      <th>2023-02-08 00:00:00-05:00</th>\n      <td>273.200012</td>\n      <td>276.760010</td>\n      <td>266.209991</td>\n      <td>266.730011</td>\n      <td>54686000</td>\n      <td>0.00</td>\n      <td>0.0</td>\n    </tr>\n    <tr>\n      <th>2023-02-09 00:00:00-05:00</th>\n      <td>273.799988</td>\n      <td>273.980011</td>\n      <td>262.799988</td>\n      <td>263.619995</td>\n      <td>42292100</td>\n      <td>0.00</td>\n      <td>0.0</td>\n    </tr>\n  </tbody>\n</table>\n<p>251 rows × 7 columns</p>\n</div>"
     },
     "execution_count": 3,
     "metadata": {},
     "output_type": "execute_result"
    }
   ],
   "source": [
    "msft.history(period = \"1y\",\n",
    "            interval = \"1d\")"
   ],
   "metadata": {
    "collapsed": false
   }
  },
  {
   "cell_type": "markdown",
   "source": [
    "### Options expirations ###"
   ],
   "metadata": {
    "collapsed": false
   }
  },
  {
   "cell_type": "code",
   "execution_count": 4,
   "outputs": [
    {
     "data": {
      "text/plain": "('2023-02-10',\n '2023-02-17',\n '2023-02-24',\n '2023-03-03',\n '2023-03-10',\n '2023-03-17',\n '2023-03-24',\n '2023-04-21',\n '2023-05-19',\n '2023-06-16',\n '2023-07-21',\n '2023-08-18',\n '2023-09-15',\n '2024-01-19',\n '2024-06-21',\n '2025-01-17',\n '2025-06-20')"
     },
     "execution_count": 4,
     "metadata": {},
     "output_type": "execute_result"
    }
   ],
   "source": [
    "msft.options"
   ],
   "metadata": {
    "collapsed": false
   }
  },
  {
   "cell_type": "markdown",
   "source": [
    "### Institutional_holders ###"
   ],
   "metadata": {
    "collapsed": false
   }
  },
  {
   "cell_type": "code",
   "execution_count": 5,
   "outputs": [
    {
     "data": {
      "text/plain": "                            Holder     Shares Date Reported   % Out  \\\n0       Vanguard Group, Inc. (The)  634238715    2022-09-29  0.0852   \n1                   Blackrock Inc.  518843676    2022-09-29  0.0697   \n2         State Street Corporation  295509547    2022-09-29  0.0397   \n3                         FMR, LLC  204088395    2022-09-29  0.0274   \n4    Price (T.Rowe) Associates Inc  171346779    2022-09-29  0.0230   \n5    Geode Capital Management, LLC  139462260    2022-09-29  0.0187   \n6                   Morgan Stanley  104765804    2022-09-29  0.0141   \n7          Capital World Investors   97528997    2022-09-29  0.0131   \n8        JP Morgan Chase & Company   92745324    2022-09-29  0.0125   \n9  Capital International Investors   84987239    2022-09-29  0.0114   \n\n          Value  \n0  167198006951  \n1  136777567333  \n2   77902225337  \n3   53801781693  \n4   45170437043  \n5   36765040300  \n6   27618360738  \n7   25710593712  \n8   24449521860  \n9   22404335530  ",
      "text/html": "<div>\n<style scoped>\n    .dataframe tbody tr th:only-of-type {\n        vertical-align: middle;\n    }\n\n    .dataframe tbody tr th {\n        vertical-align: top;\n    }\n\n    .dataframe thead th {\n        text-align: right;\n    }\n</style>\n<table border=\"1\" class=\"dataframe\">\n  <thead>\n    <tr style=\"text-align: right;\">\n      <th></th>\n      <th>Holder</th>\n      <th>Shares</th>\n      <th>Date Reported</th>\n      <th>% Out</th>\n      <th>Value</th>\n    </tr>\n  </thead>\n  <tbody>\n    <tr>\n      <th>0</th>\n      <td>Vanguard Group, Inc. (The)</td>\n      <td>634238715</td>\n      <td>2022-09-29</td>\n      <td>0.0852</td>\n      <td>167198006951</td>\n    </tr>\n    <tr>\n      <th>1</th>\n      <td>Blackrock Inc.</td>\n      <td>518843676</td>\n      <td>2022-09-29</td>\n      <td>0.0697</td>\n      <td>136777567333</td>\n    </tr>\n    <tr>\n      <th>2</th>\n      <td>State Street Corporation</td>\n      <td>295509547</td>\n      <td>2022-09-29</td>\n      <td>0.0397</td>\n      <td>77902225337</td>\n    </tr>\n    <tr>\n      <th>3</th>\n      <td>FMR, LLC</td>\n      <td>204088395</td>\n      <td>2022-09-29</td>\n      <td>0.0274</td>\n      <td>53801781693</td>\n    </tr>\n    <tr>\n      <th>4</th>\n      <td>Price (T.Rowe) Associates Inc</td>\n      <td>171346779</td>\n      <td>2022-09-29</td>\n      <td>0.0230</td>\n      <td>45170437043</td>\n    </tr>\n    <tr>\n      <th>5</th>\n      <td>Geode Capital Management, LLC</td>\n      <td>139462260</td>\n      <td>2022-09-29</td>\n      <td>0.0187</td>\n      <td>36765040300</td>\n    </tr>\n    <tr>\n      <th>6</th>\n      <td>Morgan Stanley</td>\n      <td>104765804</td>\n      <td>2022-09-29</td>\n      <td>0.0141</td>\n      <td>27618360738</td>\n    </tr>\n    <tr>\n      <th>7</th>\n      <td>Capital World Investors</td>\n      <td>97528997</td>\n      <td>2022-09-29</td>\n      <td>0.0131</td>\n      <td>25710593712</td>\n    </tr>\n    <tr>\n      <th>8</th>\n      <td>JP Morgan Chase &amp; Company</td>\n      <td>92745324</td>\n      <td>2022-09-29</td>\n      <td>0.0125</td>\n      <td>24449521860</td>\n    </tr>\n    <tr>\n      <th>9</th>\n      <td>Capital International Investors</td>\n      <td>84987239</td>\n      <td>2022-09-29</td>\n      <td>0.0114</td>\n      <td>22404335530</td>\n    </tr>\n  </tbody>\n</table>\n</div>"
     },
     "execution_count": 5,
     "metadata": {},
     "output_type": "execute_result"
    }
   ],
   "source": [
    "msft.institutional_holders"
   ],
   "metadata": {
    "collapsed": false
   }
  },
  {
   "cell_type": "markdown",
   "source": [
    "# Performance #"
   ],
   "metadata": {
    "collapsed": false
   }
  },
  {
   "cell_type": "code",
   "execution_count": 10,
   "outputs": [],
   "source": [
    "tickers_names = [\"TSLA\", \"GOOGL\", \"GOOG\", \"F\", \"CS\", \"APP\", \"ALBKF\", \"SONO\", \"FNOXG\", \"FORM\"]"
   ],
   "metadata": {
    "collapsed": false
   }
  },
  {
   "cell_type": "code",
   "execution_count": 27,
   "outputs": [],
   "source": [
    "def process_ticker_info(\n",
    "        ticker_name: str,\n",
    "        ticker_data: yf.Ticker,\n",
    "        period: str,\n",
    "        interval: str,\n",
    "        use_ins_holders: bool = True) -> dict:\n",
    "    result = {\n",
    "        \"ticker\": ticker_name,\n",
    "        \"quotes\": ticker_data.history(\n",
    "            period=period,\n",
    "            interval=interval,\n",
    "            debug=False\n",
    "        ),\n",
    "    }\n",
    "\n",
    "    if use_ins_holders:\n",
    "        result[\"institutional_holders\"] = ticker_data.institutional_holders\n",
    "\n",
    "    return result"
   ],
   "metadata": {
    "collapsed": false
   }
  },
  {
   "cell_type": "markdown",
   "source": [
    "### With institutional holders info ###"
   ],
   "metadata": {
    "collapsed": false
   }
  },
  {
   "cell_type": "code",
   "execution_count": 30,
   "outputs": [
    {
     "name": "stdout",
     "output_type": "stream",
     "text": [
      "45.2 s ± 10.9 s per loop (mean ± std. dev. of 7 runs, 1 loop each)\n"
     ]
    }
   ],
   "source": [
    "%%timeit\n",
    "result1 = [process_ticker_info(\n",
    "    ticker_name, ticker_data, \"1y\", \"1d\"\n",
    ")\n",
    "    for ticker_name, ticker_data in yf.Tickers(\n",
    "        tickers_names\n",
    "    ).tickers.items()]"
   ],
   "metadata": {
    "collapsed": false
   }
  },
  {
   "cell_type": "markdown",
   "source": [
    "### Without institutional holders info"
   ],
   "metadata": {
    "collapsed": false
   }
  },
  {
   "cell_type": "code",
   "execution_count": 29,
   "outputs": [
    {
     "name": "stdout",
     "output_type": "stream",
     "text": [
      "3.57 s ± 158 ms per loop (mean ± std. dev. of 7 runs, 1 loop each)\n"
     ]
    }
   ],
   "source": [
    "%%timeit\n",
    "result2 = [process_ticker_info(\n",
    "    ticker_name, ticker_data, \"1y\", \"1d\", use_ins_holders=False\n",
    ")\n",
    "    for ticker_name, ticker_data in yf.Tickers(\n",
    "        tickers_names\n",
    "    ).tickers.items()]"
   ],
   "metadata": {
    "collapsed": false
   }
  }
 ],
 "metadata": {
  "kernelspec": {
   "display_name": "Python 3",
   "language": "python",
   "name": "python3"
  },
  "language_info": {
   "codemirror_mode": {
    "name": "ipython",
    "version": 2
   },
   "file_extension": ".py",
   "mimetype": "text/x-python",
   "name": "python",
   "nbconvert_exporter": "python",
   "pygments_lexer": "ipython2",
   "version": "2.7.6"
  }
 },
 "nbformat": 4,
 "nbformat_minor": 0
}
